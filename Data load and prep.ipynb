{
 "cells": [
  {
   "cell_type": "markdown",
   "id": "realistic-andrews",
   "metadata": {},
   "source": [
    "## Libraries and Settings"
   ]
  },
  {
   "cell_type": "code",
   "execution_count": null,
   "id": "above-inspector",
   "metadata": {},
   "outputs": [],
   "source": [
    "import pandas as pd\n",
    "import numpy as np\n",
    "import matplotlib.pyplot as plt\n",
    "import importlib\n",
    "from pprint import pprint"
   ]
  },
  {
   "cell_type": "code",
   "execution_count": null,
   "id": "central-sugar",
   "metadata": {},
   "outputs": [],
   "source": [
    "import clean_and_transform as cat\n",
    "import feature_engineering as fe\n",
    "\n",
    "importlib.reload(cat)\n",
    "importlib.reload(fe)"
   ]
  },
  {
   "cell_type": "code",
   "execution_count": null,
   "id": "reliable-lawrence",
   "metadata": {},
   "outputs": [],
   "source": [
    "# %matplotlib notebook\n",
    "%matplotlib inline\n",
    "plt.rcParams['figure.figsize'] = [12, 8]\n",
    "plt.rcParams['figure.dpi'] = 200"
   ]
  },
  {
   "cell_type": "markdown",
   "id": "amino-migration",
   "metadata": {},
   "source": [
    "## Load"
   ]
  },
  {
   "cell_type": "code",
   "execution_count": null,
   "id": "controlling-professional",
   "metadata": {},
   "outputs": [],
   "source": [
    "L1 = pd.read_csv(\"ABC_Level_One_Tick_Data.csv\")\n",
    "L2 = pd.read_csv(\"ABC_Level_Two_Tick_Data.csv\")"
   ]
  },
  {
   "cell_type": "markdown",
   "id": "modified-technician",
   "metadata": {},
   "source": [
    "## Format and clean"
   ]
  },
  {
   "cell_type": "code",
   "execution_count": null,
   "id": "bottom-bahrain",
   "metadata": {},
   "outputs": [],
   "source": [
    "# Drop any row that contains missing values\n",
    "L1.dropna(inplace=True)\n",
    "L2.dropna(inplace=True)"
   ]
  },
  {
   "cell_type": "code",
   "execution_count": null,
   "id": "medium-kuwait",
   "metadata": {},
   "outputs": [],
   "source": [
    "# format datetime columns as datetimes\n",
    "L1 = cat.format_columns_as_date(L1, 'Time_Hour', \"%Y-%m-%d %H:%M:%S+00:00\")\n",
    "L2 = cat.format_columns_as_date(L2, 'Time_Minute', \"%d/%m/%Y %H:%M\")"
   ]
  },
  {
   "cell_type": "code",
   "execution_count": null,
   "id": "thermal-trinity",
   "metadata": {},
   "outputs": [],
   "source": [
    "# Calculate columns containing the midprices at each level, called Lx_MidPrice\n",
    "list_of_column_name_dictionaries = []\n",
    "for ii in range(1,11):    \n",
    "    columns_dict = {\n",
    "        \"bidpricecol\": \"L\"+str(ii)+\"_BidPrice\",\n",
    "        \"askpricecol\": \"L\"+str(ii)+\"_AskPrice\",\n",
    "        \"midpricecol\": \"L\"+str(ii)+\"_MidPrice\"\n",
    "    }\n",
    "    \n",
    "    list_of_column_name_dictionaries += [columns_dict]\n",
    "\n",
    "L2 = fe.calculate_mid_prices(L2, list_of_column_name_dictionaries)"
   ]
  },
  {
   "cell_type": "code",
   "execution_count": null,
   "id": "oriented-marina",
   "metadata": {},
   "outputs": [],
   "source": [
    "# Calculate columns containing the costs at each level, called Lx_Cost\n",
    "list_of_column_name_dictionaries = []\n",
    "for ii in range(1,11):    \n",
    "    columns_dict = {\n",
    "        \"bidpricecol\": \"L\"+str(ii)+\"_BidPrice\",\n",
    "        \"midpricecol\": \"L\"+str(ii)+\"_MidPrice\",\n",
    "        \"costcol\": \"L\"+str(ii)+\"_Cost\"\n",
    "    }\n",
    "    \n",
    "    list_of_column_name_dictionaries += [columns_dict]\n",
    "\n",
    "L2 = fe.calculate_costs(L2, list_of_column_name_dictionaries)"
   ]
  },
  {
   "cell_type": "code",
   "execution_count": null,
   "id": "imposed-cache",
   "metadata": {},
   "outputs": [],
   "source": [
    "# drop situations where bid price is greater than ask price (as no trades will go ahead in this aggregated data)\n",
    "list_of_column_name_dictionaries = []\n",
    "for ii in range(1,11):    \n",
    "    columns_dict = {\n",
    "        \"bidpricecol\": \"L\"+str(ii)+\"_BidPrice\", \n",
    "        \"askpricecol\": \"L\"+str(ii)+\"_AskPrice\", \n",
    "        \"bidsizecol\": \"L\"+str(ii)+\"_BidSize\",\n",
    "        \"asksizecol\": \"L\"+str(ii)+\"_AskSize\"\n",
    "    }\n",
    "    \n",
    "    list_of_column_name_dictionaries += [columns_dict]\n",
    "\n",
    "L2 = cat.zero_size_when_bid_gt_ask(L2, list_of_column_name_dictionaries)"
   ]
  },
  {
   "cell_type": "code",
   "execution_count": null,
   "id": "committed-event",
   "metadata": {},
   "outputs": [],
   "source": [
    "# make time be our dataframe index to enable quick subsetting\n",
    "L2.set_index([\"Time_Minute\"], drop=False, inplace=True)"
   ]
  },
  {
   "cell_type": "code",
   "execution_count": null,
   "id": "several-devon",
   "metadata": {
    "scrolled": true
   },
   "outputs": [],
   "source": [
    "# Restrict to trading times only\n",
    "L2 = L2.between_time(\"09:00\",\"16:00\")"
   ]
  },
  {
   "cell_type": "code",
   "execution_count": null,
   "id": "outdoor-ultimate",
   "metadata": {},
   "outputs": [],
   "source": [
    "# calculate total bid size across all levels each day\n",
    "L2 = fe.calculate_total_bid_size_by_day(L2)"
   ]
  },
  {
   "cell_type": "code",
   "execution_count": null,
   "id": "unauthorized-chancellor",
   "metadata": {},
   "outputs": [],
   "source": [
    "# calculate total bid size in level 1 each day\n",
    "L2 = fe.calculate_level_n_total_bid_size_by_day(L2, 1)"
   ]
  },
  {
   "cell_type": "code",
   "execution_count": null,
   "id": "raising-advice",
   "metadata": {},
   "outputs": [],
   "source": [
    "# calculate value variance in level 1 each day\n",
    "L2 = fe.calculate_level_n_value_variance_by_day(L2, 1)"
   ]
  },
  {
   "cell_type": "code",
   "execution_count": null,
   "id": "entertaining-capture",
   "metadata": {},
   "outputs": [],
   "source": [
    "# make time be our dataframe index again as it gets dropped in the above\n",
    "L2.set_index([\"Time_Minute\"], drop=False, inplace=True)"
   ]
  },
  {
   "cell_type": "markdown",
   "id": "spatial-europe",
   "metadata": {},
   "source": [
    "## Create Order Data for Model Training"
   ]
  },
  {
   "cell_type": "code",
   "execution_count": null,
   "id": "characteristic-arkansas",
   "metadata": {},
   "outputs": [],
   "source": [
    "# Create a list of fake order dictionaries\n",
    "fake_orders = fe.create_fake_orders(\n",
    "    L2,\n",
    "    num_orders = 20000, \n",
    "    min_quantity = 1e4, \n",
    "    max_quantity = 1e8, \n",
    "    min_horizon = 1,\n",
    "    max_horizon = 60,\n",
    "    min_datetime = \"2018-02-05 09:00:00\",\n",
    "    max_datetime = \"2018-06-12 15:56:00\")"
   ]
  },
  {
   "cell_type": "code",
   "execution_count": null,
   "id": "immediate-baseline",
   "metadata": {},
   "outputs": [],
   "source": [
    "# Now fulfil those orders and return a dataframe of the results\n",
    "fulfilled_order_data = fe.fulfil_list_of_orders(L2, fake_orders)"
   ]
  },
  {
   "cell_type": "code",
   "execution_count": null,
   "id": "tracked-saturn",
   "metadata": {},
   "outputs": [],
   "source": [
    "# And write down the data\n",
    "fulfilled_order_data.to_csv(\"./quantity_horizon_cost_data.csv\", sep = \",\", index = False)"
   ]
  },
  {
   "cell_type": "markdown",
   "id": "oriental-syndication",
   "metadata": {},
   "source": [
    "## MISC CODE"
   ]
  },
  {
   "cell_type": "code",
   "execution_count": null,
   "id": "endless-dressing",
   "metadata": {},
   "outputs": [],
   "source": [
    "pprint(fake_orders[:10])"
   ]
  },
  {
   "cell_type": "code",
   "execution_count": null,
   "id": "composed-gentleman",
   "metadata": {
    "scrolled": false
   },
   "outputs": [],
   "source": [
    "fulfilment_dict = fe.fulfil_order(L2, fake_orders[5], debug_printing=True)"
   ]
  },
  {
   "cell_type": "code",
   "execution_count": null,
   "id": "everyday-organ",
   "metadata": {},
   "outputs": [],
   "source": [
    "pprint(fulfilment_dict)"
   ]
  },
  {
   "cell_type": "code",
   "execution_count": null,
   "id": "worse-reynolds",
   "metadata": {},
   "outputs": [],
   "source": [
    "plt.scatter(L2_oneDay[\"Time_Minute\"], L2_oneDay[\"L1_BidPrice\"], marker = \".\", color=\"blue\")\n",
    "plt.scatter(L2_oneDay[\"Time_Minute\"], L2_oneDay[\"L1_MidPrice\"], marker = \".\", color=\"red\")\n",
    "plt.scatter(L2_oneDay[\"Time_Minute\"], L2_oneDay[\"L1_AskPrice\"], marker = \".\", color = \"green\")\n",
    "plt.show()"
   ]
  },
  {
   "cell_type": "code",
   "execution_count": null,
   "id": "attended-announcement",
   "metadata": {},
   "outputs": [],
   "source": [
    "plt.scatter(L2_oneDay[\"Time_Minute\"], L2_oneDay[\"L1_Cost\"], marker = \".\", color=\"blue\")"
   ]
  }
 ],
 "metadata": {
  "kernelspec": {
   "display_name": "Python 3",
   "language": "python",
   "name": "python3"
  },
  "language_info": {
   "codemirror_mode": {
    "name": "ipython",
    "version": 3
   },
   "file_extension": ".py",
   "mimetype": "text/x-python",
   "name": "python",
   "nbconvert_exporter": "python",
   "pygments_lexer": "ipython3",
   "version": "3.8.8"
  }
 },
 "nbformat": 4,
 "nbformat_minor": 5
}
