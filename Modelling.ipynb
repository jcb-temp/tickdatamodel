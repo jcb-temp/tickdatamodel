{
 "cells": [
  {
   "cell_type": "markdown",
   "id": "angry-agreement",
   "metadata": {},
   "source": [
    "## Libraries and Settings"
   ]
  },
  {
   "cell_type": "code",
   "execution_count": 1,
   "id": "optical-methodology",
   "metadata": {},
   "outputs": [],
   "source": [
    "import pandas as pd\n",
    "import numpy as np\n",
    "import matplotlib.pyplot as plt\n",
    "from matplotlib.colors import Normalize\n",
    "import importlib\n",
    "from pprint import pprint\n",
    "\n",
    "from sklearn import linear_model, svm, metrics\n",
    "from sklearn.preprocessing import StandardScaler\n",
    "from sklearn.model_selection import train_test_split, GridSearchCV, StratifiedShuffleSplit\n",
    "from sklearn.ensemble import RandomForestRegressor"
   ]
  },
  {
   "cell_type": "code",
   "execution_count": 2,
   "id": "municipal-command",
   "metadata": {},
   "outputs": [
    {
     "data": {
      "text/plain": [
       "<module 'feature_engineering' from '/home/jovyan/work/feature_engineering.py'>"
      ]
     },
     "execution_count": 2,
     "metadata": {},
     "output_type": "execute_result"
    }
   ],
   "source": [
    "import clean_and_transform as cat\n",
    "import feature_engineering as fe\n",
    "\n",
    "importlib.reload(cat)\n",
    "importlib.reload(fe)"
   ]
  },
  {
   "cell_type": "code",
   "execution_count": 3,
   "id": "binding-signature",
   "metadata": {},
   "outputs": [],
   "source": [
    "# %matplotlib notebook\n",
    "%matplotlib inline\n",
    "plt.rcParams['figure.figsize'] = [6, 4]\n",
    "plt.rcParams['figure.dpi'] = 100"
   ]
  },
  {
   "cell_type": "markdown",
   "id": "random-average",
   "metadata": {},
   "source": [
    "## Load"
   ]
  },
  {
   "cell_type": "code",
   "execution_count": 4,
   "id": "exposed-ghost",
   "metadata": {},
   "outputs": [],
   "source": [
    "QHC = pd.read_csv(\"quantity_horizon_cost_data.csv\")"
   ]
  },
  {
   "cell_type": "markdown",
   "id": "novel-comfort",
   "metadata": {},
   "source": [
    "## Format"
   ]
  },
  {
   "cell_type": "code",
   "execution_count": 5,
   "id": "passing-speaker",
   "metadata": {},
   "outputs": [],
   "source": [
    "QHC = cat.format_columns_as_date(QHC, ['actual_min_datetime','actual_max_datetime'], \"%Y-%m-%d %H:%M:%S\")"
   ]
  },
  {
   "cell_type": "code",
   "execution_count": 6,
   "id": "adult-appointment",
   "metadata": {},
   "outputs": [
    {
     "data": {
      "text/html": [
       "<div>\n",
       "<style scoped>\n",
       "    .dataframe tbody tr th:only-of-type {\n",
       "        vertical-align: middle;\n",
       "    }\n",
       "\n",
       "    .dataframe tbody tr th {\n",
       "        vertical-align: top;\n",
       "    }\n",
       "\n",
       "    .dataframe thead th {\n",
       "        text-align: right;\n",
       "    }\n",
       "</style>\n",
       "<table border=\"1\" class=\"dataframe\">\n",
       "  <thead>\n",
       "    <tr style=\"text-align: right;\">\n",
       "      <th></th>\n",
       "      <th>id</th>\n",
       "      <th>quantity</th>\n",
       "      <th>horizon</th>\n",
       "      <th>total_price</th>\n",
       "      <th>total_cost</th>\n",
       "      <th>total_cost_percentage</th>\n",
       "      <th>L1_variance</th>\n",
       "      <th>L1_TotalBidSize</th>\n",
       "      <th>TotalBidSize</th>\n",
       "    </tr>\n",
       "  </thead>\n",
       "  <tbody>\n",
       "    <tr>\n",
       "      <th>count</th>\n",
       "      <td>15933.000000</td>\n",
       "      <td>1.593300e+04</td>\n",
       "      <td>15933.000000</td>\n",
       "      <td>1.593300e+04</td>\n",
       "      <td>1.593300e+04</td>\n",
       "      <td>15933.000000</td>\n",
       "      <td>15933.000000</td>\n",
       "      <td>1.593300e+04</td>\n",
       "      <td>1.593300e+04</td>\n",
       "    </tr>\n",
       "    <tr>\n",
       "      <th>mean</th>\n",
       "      <td>10013.638737</td>\n",
       "      <td>4.551573e+07</td>\n",
       "      <td>33.671248</td>\n",
       "      <td>1.918128e+09</td>\n",
       "      <td>7.611910e+05</td>\n",
       "      <td>0.000334</td>\n",
       "      <td>0.085306</td>\n",
       "      <td>1.411843e+08</td>\n",
       "      <td>3.088705e+09</td>\n",
       "    </tr>\n",
       "    <tr>\n",
       "      <th>std</th>\n",
       "      <td>5773.575419</td>\n",
       "      <td>2.851621e+07</td>\n",
       "      <td>15.664349</td>\n",
       "      <td>1.242552e+09</td>\n",
       "      <td>7.620104e+05</td>\n",
       "      <td>0.000194</td>\n",
       "      <td>0.123942</td>\n",
       "      <td>7.286254e+07</td>\n",
       "      <td>1.875359e+09</td>\n",
       "    </tr>\n",
       "    <tr>\n",
       "      <th>min</th>\n",
       "      <td>0.000000</td>\n",
       "      <td>1.255300e+04</td>\n",
       "      <td>1.000000</td>\n",
       "      <td>4.620014e+05</td>\n",
       "      <td>7.466226e+00</td>\n",
       "      <td>0.000003</td>\n",
       "      <td>0.003359</td>\n",
       "      <td>2.896555e+07</td>\n",
       "      <td>5.318241e+08</td>\n",
       "    </tr>\n",
       "    <tr>\n",
       "      <th>25%</th>\n",
       "      <td>5017.000000</td>\n",
       "      <td>2.051856e+07</td>\n",
       "      <td>21.000000</td>\n",
       "      <td>8.579920e+08</td>\n",
       "      <td>1.848423e+05</td>\n",
       "      <td>0.000188</td>\n",
       "      <td>0.019513</td>\n",
       "      <td>8.779176e+07</td>\n",
       "      <td>1.761031e+09</td>\n",
       "    </tr>\n",
       "    <tr>\n",
       "      <th>50%</th>\n",
       "      <td>10038.000000</td>\n",
       "      <td>4.356151e+07</td>\n",
       "      <td>34.000000</td>\n",
       "      <td>1.796748e+09</td>\n",
       "      <td>5.436925e+05</td>\n",
       "      <td>0.000293</td>\n",
       "      <td>0.034410</td>\n",
       "      <td>1.170561e+08</td>\n",
       "      <td>2.432711e+09</td>\n",
       "    </tr>\n",
       "    <tr>\n",
       "      <th>75%</th>\n",
       "      <td>15007.000000</td>\n",
       "      <td>6.922095e+07</td>\n",
       "      <td>47.000000</td>\n",
       "      <td>2.884081e+09</td>\n",
       "      <td>1.098296e+06</td>\n",
       "      <td>0.000438</td>\n",
       "      <td>0.087603</td>\n",
       "      <td>1.778804e+08</td>\n",
       "      <td>3.749969e+09</td>\n",
       "    </tr>\n",
       "    <tr>\n",
       "      <th>max</th>\n",
       "      <td>19999.000000</td>\n",
       "      <td>9.998296e+07</td>\n",
       "      <td>59.000000</td>\n",
       "      <td>5.367404e+09</td>\n",
       "      <td>7.047160e+06</td>\n",
       "      <td>0.003318</td>\n",
       "      <td>0.695686</td>\n",
       "      <td>3.569487e+08</td>\n",
       "      <td>8.050330e+09</td>\n",
       "    </tr>\n",
       "  </tbody>\n",
       "</table>\n",
       "</div>"
      ],
      "text/plain": [
       "                 id      quantity       horizon   total_price    total_cost  \\\n",
       "count  15933.000000  1.593300e+04  15933.000000  1.593300e+04  1.593300e+04   \n",
       "mean   10013.638737  4.551573e+07     33.671248  1.918128e+09  7.611910e+05   \n",
       "std     5773.575419  2.851621e+07     15.664349  1.242552e+09  7.620104e+05   \n",
       "min        0.000000  1.255300e+04      1.000000  4.620014e+05  7.466226e+00   \n",
       "25%     5017.000000  2.051856e+07     21.000000  8.579920e+08  1.848423e+05   \n",
       "50%    10038.000000  4.356151e+07     34.000000  1.796748e+09  5.436925e+05   \n",
       "75%    15007.000000  6.922095e+07     47.000000  2.884081e+09  1.098296e+06   \n",
       "max    19999.000000  9.998296e+07     59.000000  5.367404e+09  7.047160e+06   \n",
       "\n",
       "       total_cost_percentage   L1_variance  L1_TotalBidSize  TotalBidSize  \n",
       "count           15933.000000  15933.000000     1.593300e+04  1.593300e+04  \n",
       "mean                0.000334      0.085306     1.411843e+08  3.088705e+09  \n",
       "std                 0.000194      0.123942     7.286254e+07  1.875359e+09  \n",
       "min                 0.000003      0.003359     2.896555e+07  5.318241e+08  \n",
       "25%                 0.000188      0.019513     8.779176e+07  1.761031e+09  \n",
       "50%                 0.000293      0.034410     1.170561e+08  2.432711e+09  \n",
       "75%                 0.000438      0.087603     1.778804e+08  3.749969e+09  \n",
       "max                 0.003318      0.695686     3.569487e+08  8.050330e+09  "
      ]
     },
     "execution_count": 6,
     "metadata": {},
     "output_type": "execute_result"
    }
   ],
   "source": [
    "QHC.describe()"
   ]
  },
  {
   "cell_type": "code",
   "execution_count": 7,
   "id": "binding-bulletin",
   "metadata": {},
   "outputs": [],
   "source": [
    "QHC_subset = QHC.head(12000).copy()"
   ]
  },
  {
   "cell_type": "markdown",
   "id": "extended-joint",
   "metadata": {},
   "source": [
    "## Model"
   ]
  },
  {
   "cell_type": "markdown",
   "id": "freelance-typing",
   "metadata": {},
   "source": [
    "### Create scaled test and train data"
   ]
  },
  {
   "cell_type": "code",
   "execution_count": 8,
   "id": "baking-toddler",
   "metadata": {},
   "outputs": [],
   "source": [
    "X = QHC_subset[['quantity', 'horizon', \"L1_variance\", \"L1_TotalBidSize\", \"TotalBidSize\"]]\n",
    "y = QHC_subset['total_cost_percentage']"
   ]
  },
  {
   "cell_type": "code",
   "execution_count": 9,
   "id": "metropolitan-bread",
   "metadata": {},
   "outputs": [],
   "source": [
    "X_train, X_test, y_train, y_test = train_test_split(X, y, test_size=0.2, random_state=42)"
   ]
  },
  {
   "cell_type": "code",
   "execution_count": 10,
   "id": "eligible-things",
   "metadata": {},
   "outputs": [],
   "source": [
    "sc = StandardScaler()\n",
    "\n",
    "X_train_sc = sc.fit_transform(X_train)\n",
    "X_test_sc = sc.transform(X_test)"
   ]
  },
  {
   "cell_type": "markdown",
   "id": "designing-college",
   "metadata": {},
   "source": [
    "### Multiple Linear Regression"
   ]
  },
  {
   "cell_type": "code",
   "execution_count": 11,
   "id": "toxic-settlement",
   "metadata": {},
   "outputs": [
    {
     "data": {
      "text/plain": [
       "LinearRegression()"
      ]
     },
     "execution_count": 11,
     "metadata": {},
     "output_type": "execute_result"
    }
   ],
   "source": [
    "mlr_regr = linear_model.LinearRegression()\n",
    "mlr_regr.fit(X_train_sc, y_train)"
   ]
  },
  {
   "cell_type": "code",
   "execution_count": 12,
   "id": "phantom-facing",
   "metadata": {},
   "outputs": [
    {
     "name": "stdout",
     "output_type": "stream",
     "text": [
      "[ 1.05267228e-04 -7.66992245e-05  1.28346047e-05 -1.22404074e-04\n",
      "  7.45545917e-05]\n"
     ]
    }
   ],
   "source": [
    "print(mlr_regr.coef_)"
   ]
  },
  {
   "cell_type": "code",
   "execution_count": 13,
   "id": "funny-owner",
   "metadata": {},
   "outputs": [],
   "source": [
    "mlr_y_pred = mlr_regr.predict(X_test_sc)"
   ]
  },
  {
   "cell_type": "code",
   "execution_count": 14,
   "id": "caroline-greenhouse",
   "metadata": {},
   "outputs": [
    {
     "name": "stdout",
     "output_type": "stream",
     "text": [
      "Mean Absolute Error: 0.00010502652117445606\n",
      "Mean Squared Error: 2.11000053276549e-08\n",
      "Root Mean Squared Error: 0.0001452584088018828\n"
     ]
    }
   ],
   "source": [
    "print('Mean Absolute Error:', metrics.mean_absolute_error(y_test, mlr_y_pred))\n",
    "print('Mean Squared Error:', metrics.mean_squared_error(y_test, mlr_y_pred))\n",
    "print('Root Mean Squared Error:', np.sqrt(metrics.mean_squared_error(y_test, mlr_y_pred)))"
   ]
  },
  {
   "cell_type": "code",
   "execution_count": 15,
   "id": "adjacent-sheep",
   "metadata": {},
   "outputs": [
    {
     "name": "stdout",
     "output_type": "stream",
     "text": [
      "0.44711607652900764\n"
     ]
    }
   ],
   "source": [
    "mlr_score = mlr_regr.score(X_test_sc, y_test)\n",
    "print(mlr_score)"
   ]
  },
  {
   "cell_type": "markdown",
   "id": "bound-expression",
   "metadata": {},
   "source": [
    "### Support Vector Regression"
   ]
  },
  {
   "cell_type": "code",
   "execution_count": 16,
   "id": "sound-terror",
   "metadata": {},
   "outputs": [],
   "source": [
    "sc_y = StandardScaler()\n",
    "\n",
    "svr_y_train_sc = sc_y.fit_transform(y_train.values.reshape(-1, 1))\n",
    "svr_y_test_sc = sc_y.transform(y_test.values.reshape(-1, 1))"
   ]
  },
  {
   "cell_type": "code",
   "execution_count": 17,
   "id": "auburn-competition",
   "metadata": {
    "scrolled": false
   },
   "outputs": [
    {
     "data": {
      "text/plain": [
       "SVR(C=100, gamma=0.1, tol=1e-06)"
      ]
     },
     "execution_count": 17,
     "metadata": {},
     "output_type": "execute_result"
    }
   ],
   "source": [
    "svr_regr = svm.SVR(kernel='rbf', tol = 1e-6, C=100, gamma=0.1)\n",
    "svr_regr.fit(X_train_sc, svr_y_train_sc.ravel())"
   ]
  },
  {
   "cell_type": "code",
   "execution_count": 18,
   "id": "informed-explanation",
   "metadata": {},
   "outputs": [],
   "source": [
    "svr_y_pred = svr_regr.predict(X_test_sc)"
   ]
  },
  {
   "cell_type": "code",
   "execution_count": 19,
   "id": "supported-psychiatry",
   "metadata": {},
   "outputs": [
    {
     "name": "stdout",
     "output_type": "stream",
     "text": [
      "Mean Absolute Error: 0.4175445586707579\n",
      "Mean Squared Error: 0.386735167747957\n",
      "Root Mean Squared Error: 0.621880348417569\n"
     ]
    }
   ],
   "source": [
    "print('Mean Absolute Error:', metrics.mean_absolute_error(svr_y_test_sc, svr_y_pred))\n",
    "print('Mean Squared Error:', metrics.mean_squared_error(svr_y_test_sc, svr_y_pred))\n",
    "print('Root Mean Squared Error:', np.sqrt(metrics.mean_squared_error(svr_y_test_sc, svr_y_pred)))"
   ]
  },
  {
   "cell_type": "code",
   "execution_count": 20,
   "id": "statewide-blowing",
   "metadata": {},
   "outputs": [
    {
     "name": "stdout",
     "output_type": "stream",
     "text": [
      "0.6177656509928947\n"
     ]
    }
   ],
   "source": [
    "svr_score = svr_regr.score(X_test_sc, svr_y_test_sc)\n",
    "print(svr_score)"
   ]
  },
  {
   "cell_type": "markdown",
   "id": "incredible-growing",
   "metadata": {},
   "source": [
    "### Random Forest Regression"
   ]
  },
  {
   "cell_type": "code",
   "execution_count": 21,
   "id": "periodic-request",
   "metadata": {},
   "outputs": [
    {
     "data": {
      "text/plain": [
       "RandomForestRegressor(n_estimators=200, random_state=42)"
      ]
     },
     "execution_count": 21,
     "metadata": {},
     "output_type": "execute_result"
    }
   ],
   "source": [
    "rfr_regr = RandomForestRegressor(n_estimators=200, random_state=42)\n",
    "rfr_regr.fit(X_train_sc, y_train)"
   ]
  },
  {
   "cell_type": "code",
   "execution_count": 22,
   "id": "forced-vienna",
   "metadata": {},
   "outputs": [],
   "source": [
    "rfr_y_pred = rfr_regr.predict(X_test_sc)"
   ]
  },
  {
   "cell_type": "code",
   "execution_count": 23,
   "id": "tamil-cycling",
   "metadata": {},
   "outputs": [
    {
     "name": "stdout",
     "output_type": "stream",
     "text": [
      "Mean Absolute Error: 8.308488089854158e-05\n",
      "Mean Squared Error: 1.4647025065608421e-08\n",
      "Root Mean Squared Error: 0.0001210248944044506\n"
     ]
    }
   ],
   "source": [
    "print('Mean Absolute Error:', metrics.mean_absolute_error(y_test, rfr_y_pred))\n",
    "print('Mean Squared Error:', metrics.mean_squared_error(y_test, rfr_y_pred))\n",
    "print('Root Mean Squared Error:', np.sqrt(metrics.mean_squared_error(y_test, rfr_y_pred)))"
   ]
  },
  {
   "cell_type": "code",
   "execution_count": 24,
   "id": "surgical-offense",
   "metadata": {},
   "outputs": [
    {
     "name": "stdout",
     "output_type": "stream",
     "text": [
      "0.6162036663167234\n"
     ]
    }
   ],
   "source": [
    "rfr_score = rfr_regr.score(X_test_sc, y_test)\n",
    "print(rfr_score)"
   ]
  },
  {
   "cell_type": "markdown",
   "id": "boolean-waterproof",
   "metadata": {},
   "source": [
    "## Misc"
   ]
  },
  {
   "cell_type": "code",
   "execution_count": 25,
   "id": "stretch-photography",
   "metadata": {},
   "outputs": [
    {
     "data": {
      "text/plain": [
       "<AxesSubplot:>"
      ]
     },
     "execution_count": 25,
     "metadata": {},
     "output_type": "execute_result"
    },
    {
     "data": {
      "image/png": "[encoded data removed]",
      "text/plain": [
       "<Figure size 600x400 with 2 Axes>"
      ]
     },
     "metadata": {
      "needs_background": "light"
     },
     "output_type": "display_data"
    }
   ],
   "source": [
    "# Check correlation\n",
    "import seaborn as sns\n",
    "corr = X.corr()\n",
    "sns.heatmap(\n",
    "    corr, \n",
    "    mask=np.zeros_like(corr, dtype=bool), \n",
    "    cmap=sns.diverging_palette(220, 10, as_cmap=True), \n",
    "    vmin=-1, vmax=1,\n",
    "    square=True)"
   ]
  },
  {
   "cell_type": "code",
   "execution_count": null,
   "id": "played-argument",
   "metadata": {},
   "outputs": [],
   "source": [
    "C_range = [0.01, 0.1, 1, 10, 100, 1000] #np.logspace(-2, 4, 13)\n",
    "gamma_range = [0.000001, 0.0001, 0.01, 1] # np.logspace(-8, 1, 13)\n",
    "param_grid = dict(gamma=gamma_range, C=C_range)\n",
    "\n",
    "grid = GridSearchCV(svm.SVR(), param_grid=param_grid, verbose = 2.5)\n",
    "\n",
    "grid.fit(X_sc_train, y_sc_train.ravel())\n",
    "\n",
    "print(\"The best parameters are %s with a score of %0.2f\"\n",
    "      % (grid.best_params_, grid.best_score_))"
   ]
  }
 ],
 "metadata": {
  "kernelspec": {
   "display_name": "Python 3",
   "language": "python",
   "name": "python3"
  },
  "language_info": {
   "codemirror_mode": {
    "name": "ipython",
    "version": 3
   },
   "file_extension": ".py",
   "mimetype": "text/x-python",
   "name": "python",
   "nbconvert_exporter": "python",
   "pygments_lexer": "ipython3",
   "version": "3.8.8"
  }
 },
 "nbformat": 4,
 "nbformat_minor": 5
}
